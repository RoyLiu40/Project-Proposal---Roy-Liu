{
 "cells": [
  {
   "cell_type": "markdown",
   "id": "c7f126cd",
   "metadata": {},
   "source": [
    "**Project Proposal - Roy Liu**"
   ]
  },
  {
   "cell_type": "markdown",
   "id": "209a3115",
   "metadata": {},
   "source": [
    "**#1. \n",
    "Research Question**: Does social interactions with your close friends effect your mental wellbeing and how happy you are overall?\n",
    "\n",
    "**Variables**\n",
    "\n",
    "**Amount of Close Friends**: This variable captures the rough amount of friends that people have in close contact with. I am choosing this variable as it directly relates to the question that I am trying to answer, which is the effect that the number of friends you have correlate with your happiness. The research question is trying to answer whether social interactions with your friends affect how happy you are, which relates to the number of friends you have in general.\n",
    "\n",
    "**Number of times spent at least 5 minutes with close friends in the past week**:This variable describes the amount of activity that one would have with their close friends, which we could use to see the impact it has on happiness as well as the correlation with number of friends to see its combined effects with the overall happiness score.\n",
    "\n",
    "**Physical, Mental Health and General Health Score**: These are the variables that an individual will self analyse their overall wellbeing. For physical and mental health they respond with a non numeric evaluation of their current health situation from poor to very good.\n",
    "\n",
    "**Visualization**: For the visualization histograms would be very useful for the first two variables as they are more discrete data and can be seperated into bins more easily. This would also help visualize the amount of people within each category and what the general sample is like. For the health score I would use a KDE to visualize the spread of the data and the health scores within the sample. As it is continous data, the spread of the data will be much better visualized through a KDE.\n",
    "\n",
    "**Analysis**: I plan to convert the non-numerical responses of physical and mental health into numerical values and multiply that with the estimated health score they provide to get the total calculated health score. Then I will perform linear regression and using the number of times spent with close friends as the predictor variable and the new calculated total health score as the outcome variable. After seperating the data into categories using the amount of close friends, I will perform the same linear regression using the same predictor and outcome variable, gather the coefficient of regression, and compare to see if the number of friends you have effects the correlation or not.\n",
    "\n",
    "**Hypothesis**: I hypothesize that the relationship between the time spent with friends and the overall health score would be a positively related trend, and that the number of friends you have would not have a significant impact besides the group with 0 close friends, as the quality of your friends matter the most and not the quantity. The results would be relevant in answering my research question as I could see if the number of times one hangouts with their friends each week would have a direct and strong correlation with their mental and physical wellbeing, or is it a more complex relationship that requires other factors to be considered. depending on the coefficient of correlation, we can reach a conclusion based on the strength of the correlation."
   ]
  },
  {
   "cell_type": "markdown",
   "id": "c39f5b73",
   "metadata": {},
   "source": [
    "**#2.\n",
    "Research Question:Does your relationship status affect how often you feel negative emotions?**\n",
    "\n",
    "**Variables:** \n",
    "\n",
    "**Relationship Status**: Describes the participant's relationship status. Either single and not dating, single and dating, or in a relationship are the options given. This variable correlates with the research question presented as it is the main predictor in the analysis, and is directly related to the level of relationship that you have with someone close to you.\n",
    "\n",
    "**Negative Emotion Score**: This variable is made up of multiple variables conducted within the study, those include how often we feel a variety of emotions in our life in general, those emotions being: Tired, Disappointed with people, Hopeless, Trapped, Helpless, Physically weak or sickly, Depressed, Worthless, Difficulties Sleeping, and Had it. I will transcribe the non-numerical responses into a numeric value, then get the mean of all the scores, which is the Negative emotion score for that entry. This variable is relevant to the question as it is a rough estimate of how negative a person feels on a daily basis, and that variable should help answer our question as to the correlation between relatioship status and negative emotions.\n",
    "\n",
    "**Visualization**: The relationship status variable can be visualized through a histogram, seperating the observations into 3 distinct bins, pretty easy there as it is straight up discrete data. for the Negative Emotion Score we can apply a box plot to visualize the spread of the data and see any outliers in the data. This should help us visualize and see the variance in our negative emotion score.\n",
    "\n",
    "**Analysis**: The analysis will be conducted by Hypothesis testing, and to perform a hypothesis test where the null hypothesis is that the coefficient of correlation will be 0, with the alternative hypothesis being that it is not 0. This means that the null hypothesis suggests that there is no correlation between relationship status and negative emotions. After performing the linear regression analysis, we extract the coefficient of correlation and see whether or not the null hypothesis can be rejected through a significance level analysis.\n",
    "\n",
    "**Hypothesis**: I hypothesize that the null hypothesis will be rejected as the deeper into a relationship you are the less succeptable you are to negative emotions. If the coefficient of correlation produced from the analysis is outside of the 95% interval, Then we can reject the null hypothesis and assume that there is a correlation between the level of relationship status and your negative emotions that you feel."
   ]
  },
  {
   "cell_type": "markdown",
   "id": "e59a4a12",
   "metadata": {},
   "source": [
    "**#3.\n",
    "Research Question: Do people spend over 2 hours everyday on social media?**\n",
    "**Variables**\n",
    "\n",
    "**Time Spent on Social Media**: The variable is a numerical variable showing the amount of time people spend on social media, which is the main focus of this analysis. The entire data set is centered around this variable.\n",
    "\n",
    "**Visualization**: This data can be visualized using a KDE due its continous nature.\n",
    "\n",
    "**Analysis**: The analysis should be conducted by hypothesis testing. The data will be bootstrapped to create more of a variability, and the mean will be taken. This process will be repeated until a sample mean distribution is created. Then we perform the null hypothesis testing with 2 hours and over as the null hypothesis and the alternate hypothesis being less than 2 hours. The p value will be calculated and will decide whether the null hypothesis can be rejected or not.\n",
    "\n",
    "**Hypothesis**: I suspect that the average hours people spend on social media will greatly depend on the sample itself, and will vary greatly. Whether or not the null hypothesis is rejected or not will tell us more about the answer to our question."
   ]
  },
  {
   "cell_type": "code",
   "execution_count": null,
   "id": "e4b57c2f",
   "metadata": {},
   "outputs": [],
   "source": []
  }
 ],
 "metadata": {
  "kernelspec": {
   "display_name": "Python 3 (ipykernel)",
   "language": "python",
   "name": "python3"
  },
  "language_info": {
   "codemirror_mode": {
    "name": "ipython",
    "version": 3
   },
   "file_extension": ".py",
   "mimetype": "text/x-python",
   "name": "python",
   "nbconvert_exporter": "python",
   "pygments_lexer": "ipython3",
   "version": "3.11.6"
  }
 },
 "nbformat": 4,
 "nbformat_minor": 5
}
